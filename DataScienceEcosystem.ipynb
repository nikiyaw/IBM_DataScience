{
 "cells": [
  {
   "cell_type": "markdown",
   "id": "3cf0ec39",
   "metadata": {},
   "source": [
    "# Data Science Tools and Ecosystem"
   ]
  },
  {
   "cell_type": "markdown",
   "id": "db3d5659",
   "metadata": {},
   "source": [
    "In this notebook, Data Science Tools and Ecosystem are summarized. "
   ]
  },
  {
   "cell_type": "markdown",
   "id": "46137849",
   "metadata": {},
   "source": [
    "**Objectives:**\n",
    "- List of popular languages\n",
    "- List of common libraries\n",
    "- Examples for arithmetic expressions"
   ]
  },
  {
   "cell_type": "markdown",
   "id": "46c26b16",
   "metadata": {},
   "source": [
    "Some of the popular languages that Data Scientists use are:\n",
    "1. Python\n",
    "2. R\n",
    "3. SQL\n",
    "\n",
    "Others: Scala, Java, C++, Julia etc. "
   ]
  },
  {
   "cell_type": "markdown",
   "id": "a4fe5e5a",
   "metadata": {},
   "source": [
    "Some of the commonly used libraries used by Data Scientists include:\n",
    "1. Scikit-learn: statistical modeling, including regression, classification, clustering\n",
    "2. TensorFlow: large-scale production of deep-learning models\n",
    "3. Apache Spark: general-purpose cluster-computing framework"
   ]
  },
  {
   "cell_type": "markdown",
   "id": "6e8cb663",
   "metadata": {},
   "source": [
    "| Data Science Tools |\n",
    "| ------------- | \n",
    "| Jupyter notebook | \n",
    "| RStudio | \n",
    "| VS Code |"
   ]
  },
  {
   "cell_type": "markdown",
   "id": "79b7422c",
   "metadata": {},
   "source": [
    "### Below are a few examples of evaluating arithmetic expressions in Python"
   ]
  },
  {
   "cell_type": "code",
   "execution_count": 4,
   "id": "87fc9466",
   "metadata": {},
   "outputs": [
    {
     "data": {
      "text/plain": [
       "17"
      ]
     },
     "execution_count": 4,
     "metadata": {},
     "output_type": "execute_result"
    }
   ],
   "source": [
    "# This is a simple arithmetic expression to multiply then add integers. \n",
    "\n",
    "(3*4)+5"
   ]
  },
  {
   "cell_type": "code",
   "execution_count": 5,
   "id": "d9e41970",
   "metadata": {},
   "outputs": [
    {
     "data": {
      "text/plain": [
       "33.333333333333336"
      ]
     },
     "execution_count": 5,
     "metadata": {},
     "output_type": "execute_result"
    }
   ],
   "source": [
    "# This will convert 200 minutes to hours by dividing by 60. \n",
    "\n",
    "200/6"
   ]
  },
  {
   "cell_type": "markdown",
   "id": "fbb42a54",
   "metadata": {},
   "source": [
    "## Author\n",
    "\n",
    "Niki Yaw"
   ]
  },
  {
   "cell_type": "code",
   "execution_count": null,
   "id": "27e1d99d",
   "metadata": {},
   "outputs": [],
   "source": []
  }
 ],
 "metadata": {
  "kernelspec": {
   "display_name": "Python 3 (ipykernel)",
   "language": "python",
   "name": "python3"
  },
  "language_info": {
   "codemirror_mode": {
    "name": "ipython",
    "version": 3
   },
   "file_extension": ".py",
   "mimetype": "text/x-python",
   "name": "python",
   "nbconvert_exporter": "python",
   "pygments_lexer": "ipython3",
   "version": "3.10.9"
  }
 },
 "nbformat": 4,
 "nbformat_minor": 5
}
